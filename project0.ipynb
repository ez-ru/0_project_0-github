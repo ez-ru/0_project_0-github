{
 "cells": [
  {
   "cell_type": "code",
   "execution_count": null,
   "metadata": {},
   "outputs": [],
   "source": [
    "import numpy as np\n",
    "\n",
    "count = 0                            # Счетчик попыток\n",
    "number = np.random.randint(1, 101)   # Загадали число\n",
    "print (\"Загадано число от 1 до 100\")\n",
    "\n",
    "\n",
    "def game_core_v3(number):\n",
    "    '''\n",
    "    Функция принимает загаданное число и возвращает число попыток.\n",
    "    В зависимомсти от того, predict больше или меньше number,\n",
    "    увеличиваем, либо уменьшаем его на 2 еденицы\n",
    "    Счетчики итераций увеличения и уменьшения сигнализируют нам о том,\n",
    "    что predict пересек number, после пересечения нужно его откатить на 1.\n",
    "    '''\n",
    "    count = 1                            # Счетчик кол. попыток\n",
    "    increases_count = 0                  # Счетчик итераций с увеличением\n",
    "    decreases_count = 0                  # Счетчик итераций с уменьшением\n",
    "    predict = np.random.randint(1, 101)  # Предполагаемое число\n",
    "\n",
    "    while number != predict:\n",
    "        count += 1\n",
    "        if number > predict:\n",
    "            if decreases_count == 0:\n",
    "                predict += 2\n",
    "                increases_count += 1\n",
    "            else:\n",
    "                predict += 1\n",
    "        elif number < predict:\n",
    "            if increases_count == 0:\n",
    "                predict -= 2\n",
    "                decreases_count += 1\n",
    "            else:\n",
    "                predict -= 1\n",
    "\n",
    "    return(count)  # Выход из цикла, если угадали\n",
    "\n",
    "\n",
    "def score_game(game_core):\n",
    "    # Запускаем игру 1000 раз, чтобы узнать, как быстро игра угадывает число\n",
    "    count_ls = []\n",
    "    np.random.seed(1)  # Фикс. RANDOM SEED, для воспроизводимости эксперимента\n",
    "    random_array = np.random.randint(1, 101, size=(1000))\n",
    "    for number in random_array:\n",
    "        count_ls.append(game_core(number))\n",
    "    score = int(np.mean(count_ls))\n",
    "    print(f\"Ваш алгоритм угадывает число в среднем за {score} попыток\")\n",
    "    return(score)\n",
    "\n",
    "\n",
    "score_game(game_core_v3)"
   ]
  }
 ],
 "metadata": {
  "kernelspec": {
   "display_name": "Python 3",
   "language": "python",
   "name": "python3"
  },
  "language_info": {
   "codemirror_mode": {
    "name": "ipython",
    "version": 3
   },
   "file_extension": ".py",
   "mimetype": "text/x-python",
   "name": "python",
   "nbconvert_exporter": "python",
   "pygments_lexer": "ipython3",
   "version": "3.8.5"
  }
 },
 "nbformat": 4,
 "nbformat_minor": 4
}
