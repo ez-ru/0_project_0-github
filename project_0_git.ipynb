{
 "cells": [
  {
   "cell_type": "code",
   "execution_count": 31,
   "metadata": {},
   "outputs": [
    {
     "name": "stdout",
     "output_type": "stream",
     "text": [
      "Загадано число от 1 до 100\n",
      "Ваш алгоритм угадывает число в среднем за 6 попыток\n"
     ]
    },
    {
     "data": {
      "text/plain": [
       "6"
      ]
     },
     "execution_count": 31,
     "metadata": {},
     "output_type": "execute_result"
    }
   ],
   "source": [
    "import numpy as np\n",
    "\n",
    "count = 0                            # счетчик попыток\n",
    "number = np.random.randint(1,101)    # загадали число\n",
    "print (\"Загадано число от 1 до 100\")\n",
    "\n",
    "def divide_list_to_chunks(list_, n):\n",
    "    '''Делит список на n-частей. Возвращает n-списков. Числа в новых списках не идут подряд(!!!)\n",
    "       но для нашей задачи это совершенно не важно'''\n",
    "    return [list_[start::n] for start in range(n)] \n",
    "\n",
    "\n",
    "def score_game(game_core):\n",
    "    '''Запускаем игру 1000 раз, чтобы узнать, как быстро игра угадывает число'''\n",
    "    count_ls = []\n",
    "    np.random.seed(1)  # фиксируем RANDOM SEED, чтобы ваш эксперимент был воспроизводим!\n",
    "    random_array = np.random.randint(1,101, size=(1000))\n",
    "    for number in random_array:\n",
    "        count_ls.append(game_core(number))\n",
    "    score = int(np.mean(count_ls))\n",
    "    print(f\"Ваш алгоритм угадывает число в среднем за {score} попыток\")\n",
    "    return(score)\n",
    "\n",
    "\n",
    "def game_core_v3(number):\n",
    "    '''Функция решает задачу поиска загаданного числа используя идею поиска принадлежности числа диапазону.\n",
    "        Для этого мы делим диапазон где точно есть загаданное число на две части и продолжаем так до того \n",
    "        момента, пока не найдём наше число.\n",
    "        Функция принимает загаданное число и возвращает число попыток '''\n",
    "    \n",
    "    count = 1                            # Счетчик кол. попыток\n",
    "    predict = np.random.randint(1, 101)  # Предполагаемое число может быть любым из нашего диапазона\n",
    "    main_list=[x for x in range(1,101)]  # В этом списке точно есть наше загаданное число\n",
    "       \n",
    "\n",
    "    while number != predict:\n",
    "        count += 1\n",
    "        # Разделяем список на две группы\n",
    "        a_list, b_list = divide_list_to_chunks(main_list, 2)\n",
    "        \n",
    "        if number in a_list:\n",
    "            main_list = a_list                   # число находится в данном диапазоне - дальше работаем с ним\n",
    "            predict = a_list[len(a_list)//2]     # пытаемся угадать - загаданное число = середина списка?\n",
    "        else:\n",
    "            main_list = b_list                   # число находится в данном диапазоне - дальше работаем с ним\n",
    "            predict = b_list[len(b_list)//2]     # пытаемся угадать - загаданное число = середина списка?\n",
    "    \n",
    "    return(count)  # Выход из цикла, если угадали\n",
    "\n",
    "\n",
    "# Проверяем\n",
    "\n",
    "score_game(game_core_v3)"
   ]
  },
  {
   "cell_type": "code",
   "execution_count": null,
   "metadata": {},
   "outputs": [],
   "source": []
  }
 ],
 "metadata": {
  "kernelspec": {
   "display_name": "Python 3",
   "language": "python",
   "name": "python3"
  },
  "language_info": {
   "codemirror_mode": {
    "name": "ipython",
    "version": 3
   },
   "file_extension": ".py",
   "mimetype": "text/x-python",
   "name": "python",
   "nbconvert_exporter": "python",
   "pygments_lexer": "ipython3",
   "version": "3.8.5"
  }
 },
 "nbformat": 4,
 "nbformat_minor": 4
}
